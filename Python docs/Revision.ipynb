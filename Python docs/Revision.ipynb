{
 "cells": [
  {
   "cell_type": "code",
   "execution_count": null,
   "metadata": {},
   "outputs": [],
   "source": [
    "a=\"gogogogo\"\n",
    "print(type(\"Hello world\"),type(4),a)\n",
    "b,c=10,10\n",
    "print(id(b),id(c))   #same location  it is aprox -5 to 256 called as python numbers\n",
    "b=123456\n",
    "c=123456\n",
    "print(id(b),id(c))   #differnt locations"
   ]
  },
  {
   "cell_type": "code",
   "execution_count": null,
   "metadata": {},
   "outputs": [],
   "source": [
    "a=\"raw\"\n",
    "b=10\n",
    "c=5.6\n",
    "d=1+8j\n",
    "e=True\n",
    "print(type(a),type(b),type(c),type(d),type(e)) #python has no restrictions on memory"
   ]
  },
  {
   "cell_type": "code",
   "execution_count": null,
   "metadata": {},
   "outputs": [],
   "source": [
    "print(35//2,2**3,\"hello\"*10)\n",
    "a=input()\n",
    "b=input()\n",
    "print(a+b)\n",
    "a=int(input())\n",
    "b=int(input())\n",
    "print(a+b)\n",
    "c=a>b\n",
    "print(c)\n",
    "res=\"yeah\" if a>b<65 else \"boo\"\n",
    "print(res)"
   ]
  },
  {
   "cell_type": "code",
   "execution_count": null,
   "metadata": {},
   "outputs": [],
   "source": [
    "count=5\n",
    "def foo():\n",
    "    global count\n",
    "    count=count+1\n",
    "    print(count)\n",
    "foo()"
   ]
  },
  {
   "cell_type": "code",
   "execution_count": null,
   "metadata": {},
   "outputs": [],
   "source": [
    "print(45);print(21);print(132);\n",
    "print(102) if 10<20 else print(123)    #similar to ternary operator"
   ]
  },
  {
   "cell_type": "code",
   "execution_count": null,
   "metadata": {},
   "outputs": [],
   "source": [
    "def getin():\n",
    "    return \"hello\"\n",
    "def Main():\n",
    "    print(\"started\")\n",
    "    output=getin()\n",
    "    print(output)\n",
    "\n",
    "\n",
    "    \n",
    "if __name__==\"__main__\":\n",
    "    Main()"
   ]
  },
  {
   "cell_type": "code",
   "execution_count": null,
   "metadata": {},
   "outputs": [],
   "source": [
    "x=\\\n",
    "    1+2\\\n",
    "        +5+6\\\n",
    "            +10    #explicit continuation\n",
    "print(x)\n"
   ]
  },
  {
   "cell_type": "code",
   "execution_count": null,
   "metadata": {},
   "outputs": [],
   "source": [
    "import keyword\n",
    "keys=[\"for\",\"while\",\"hello\",\"break\",\"assert\",\"hghg\",\"lambda\",\"elif\"]\n",
    "for i in keys:\n",
    "    if keyword.iskeyword(i):    #to check if keyword\n",
    "        print(i,\"is keyword\")\n",
    "    else:\n",
    "        print(i,\"is not keyword\")\n",
    "print(keyword.kwlist)   #print keywords list\n",
    "print(keyword.softkwlist)"
   ]
  },
  {
   "cell_type": "code",
   "execution_count": null,
   "metadata": {},
   "outputs": [],
   "source": [
    "for i in range(1,11):\n",
    "    print(i,end=\" \")   #printing without newline\n",
    "print()\n",
    "li=[1,2,3,4,5,6,7,8,9,10]\n",
    "print(*li)    "
   ]
  },
  {
   "cell_type": "code",
   "execution_count": null,
   "metadata": {},
   "outputs": [],
   "source": [
    "# a,b,c=int(input()),int(input()),int(input())  #old method\n",
    "# a,b,c=input(\"Enter three values \").split()    #taking multiple values,here input type is string\n",
    "a,b,c=[int(x) for x in input(\"Enter three values \").split()]  #using list comprehension\n",
    "if b<a>c:\n",
    "    print(a+b)\n",
    "elif a<b>c:\n",
    "    print(b)\n",
    "elif a<c>b:\n",
    "    print(c)\n",
    "else:\n",
    "    pass"
   ]
  },
  {
   "cell_type": "code",
   "execution_count": null,
   "metadata": {},
   "outputs": [],
   "source": [
    "print(\"hello\",\"hoho\",end='@')    #end and separator\n",
    "print(\"How\")\n",
    "print(30,10,2002,sep='-')\n",
    "print(56,87,\"hello\",sep='')"
   ]
  },
  {
   "cell_type": "markdown",
   "metadata": {},
   "source": [
    "output formatting:\n",
    "general syntax for output formatting is\n",
    " %[flags][width][.precision]type "
   ]
  },
  {
   "cell_type": "code",
   "execution_count": null,
   "metadata": {},
   "outputs": [],
   "source": [
    "print(\"my age is %d\" % (10))\n",
    "print(\"this is %2.1f\" %(335456.568))\n",
    "print(\"Geeks : %2d, Portal : %5.2f\" % (1, 05.333))\n",
    "print(\"%.5o\" %(45))  #octal number\n",
    "print(\"%.4r\" %(459.4445))   #rounding the number\n",
    "print(\"%.2E\" %(53323))    #exponential value\n",
    "print(\"%.5d\" %(234.454))\n",
    "print(\"%.4g\" %(234.454)) #??\n",
    "\n",
    "print(\"hello,my name is {} and my age is {}\".format(\"Kanishq\",\"23\"))    #all {}should be empty\n",
    "print(\"hello,my name is {0} and my age is {1}\".format(\"Kanishq\",\"23\"))\n",
    "print(\"hello,my name is {1} and my age is {0}\".format(\"Kanishq\",\"23\"))\n",
    "#positional argument should be after keyword\n",
    "print(\"hello,my name is {0} and my age is {1} and i am from {city},and it is in distt {city}\".format(\"Kanishq\",\"23\",city=\"Bilaspur\")) "
   ]
  }
 ],
 "metadata": {
  "interpreter": {
   "hash": "8912ab018fced6150e62a2344c11dfeb4a15a30f1a2d5d8778c7277a4926139d"
  },
  "kernelspec": {
   "display_name": "Python 3.10.0 64-bit (windows store)",
   "name": "python3"
  },
  "language_info": {
   "codemirror_mode": {
    "name": "ipython",
    "version": 3
   },
   "file_extension": ".py",
   "mimetype": "text/x-python",
   "name": "python",
   "nbconvert_exporter": "python",
   "pygments_lexer": "ipython3",
   "version": "3.10.0"
  },
  "orig_nbformat": 4
 },
 "nbformat": 4,
 "nbformat_minor": 2
}
