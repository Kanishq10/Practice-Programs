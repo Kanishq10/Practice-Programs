{
 "cells": [
  {
   "cell_type": "code",
   "execution_count": 3,
   "metadata": {},
   "outputs": [
    {
     "name": "stdout",
     "output_type": "stream",
     "text": [
      "13\n",
      "True\n"
     ]
    }
   ],
   "source": [
    "def valid_pass(n):\n",
    "    M=1\n",
    "    A=0\n",
    "    x=n\n",
    "    while (x!=0):\n",
    "        M=M*(x%10)\n",
    "        x=x//10\n",
    "    x=n   \n",
    "    while(x!=0):\n",
    "        A=+(x%10)\n",
    "        x=x//10\n",
    "    D=M-A\n",
    "    if((D==1)or(D==22)):\n",
    "        return False\n",
    "    else:\n",
    "        flag=True\n",
    "        for i in range(2,D):\n",
    "            if(D%i==0):\n",
    "                flag=False\n",
    "        return flag\n",
    "    \n",
    "N=int(input())\n",
    "print(valid_pass(N))"
   ]
  },
  {
   "cell_type": "code",
   "execution_count": null,
   "metadata": {},
   "outputs": [],
   "source": []
  }
 ],
 "metadata": {
  "kernelspec": {
   "display_name": "Python 3",
   "language": "python",
   "name": "python3"
  },
  "language_info": {
   "codemirror_mode": {
    "name": "ipython",
    "version": 3
   },
   "file_extension": ".py",
   "mimetype": "text/x-python",
   "name": "python",
   "nbconvert_exporter": "python",
   "pygments_lexer": "ipython3",
   "version": "3.8.5"
  }
 },
 "nbformat": 4,
 "nbformat_minor": 4
}
