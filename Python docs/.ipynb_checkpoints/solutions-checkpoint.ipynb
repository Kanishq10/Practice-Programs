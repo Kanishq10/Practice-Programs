{
 "cells": [
  {
   "cell_type": "code",
   "execution_count": 1,
   "metadata": {},
   "outputs": [
    {
     "name": "stdout",
     "output_type": "stream",
     "text": [
      "6\n",
      "F\n",
      "EF\n",
      "DEF\n",
      "CDEF\n",
      "BCDEF\n",
      "ABCDEF\n"
     ]
    }
   ],
   "source": [
    "n=int(input()) #5\n",
    "for i in range(n,0,-1):  #3\n",
    "\tfor j in range(i,n+1):  #3 6\n",
    "\t\tprint(chr(j+64),end=\"\")\n",
    "\tprint()"
   ]
  },
  {
   "cell_type": "code",
   "execution_count": 5,
   "metadata": {},
   "outputs": [
    {
     "name": "stdout",
     "output_type": "stream",
     "text": [
      "8\n",
      "1\n",
      "11\n",
      "121\n",
      "1221\n",
      "12221\n",
      "122221\n",
      "1222221\n",
      "12222221\n"
     ]
    }
   ],
   "source": [
    "n=int(input())\n",
    "print(1)\n",
    "i=1\n",
    "while(i<n):\n",
    "    j=0\n",
    "    while(j<i+1):\n",
    "        if(j==0 or j==i):\n",
    "            print(1,end=\"\")\n",
    "        else:\n",
    "            print(2,end=\"\")\n",
    "        j=j+1\n",
    "    i=i+1\n",
    "    print()"
   ]
  },
  {
   "cell_type": "code",
   "execution_count": 6,
   "metadata": {},
   "outputs": [
    {
     "name": "stdout",
     "output_type": "stream",
     "text": [
      "0\n"
     ]
    },
    {
     "ename": "SystemExit",
     "evalue": "",
     "output_type": "error",
     "traceback": [
      "An exception has occurred, use %tb to see the full traceback.\n",
      "\u001b[1;31mSystemExit\u001b[0m\n"
     ]
    },
    {
     "name": "stderr",
     "output_type": "stream",
     "text": [
      "D:\\python\\lib\\site-packages\\IPython\\core\\interactiveshell.py:3426: UserWarning: To exit: use 'exit', 'quit', or Ctrl-D.\n",
      "  warn(\"To exit: use 'exit', 'quit', or Ctrl-D.\", stacklevel=1)\n"
     ]
    }
   ],
   "source": [
    "import sys \n",
    "n=int(input())\n",
    "if n==0:\n",
    "    sys.exit()\n",
    "print(1)\n",
    "i=1\n",
    "while(i<n):\n",
    "    j=0\n",
    "    while(j<i+1):\n",
    "        if(j==0 or j==i):\n",
    "            print(1,end=\"\")\n",
    "        else:\n",
    "            print(2,end=\"\")\n",
    "        j=j+1\n",
    "    i=i+1\n",
    "    print()"
   ]
  },
  {
   "cell_type": "code",
   "execution_count": null,
   "metadata": {},
   "outputs": [],
   "source": []
  }
 ],
 "metadata": {
  "kernelspec": {
   "display_name": "Python 3",
   "language": "python",
   "name": "python3"
  },
  "language_info": {
   "codemirror_mode": {
    "name": "ipython",
    "version": 3
   },
   "file_extension": ".py",
   "mimetype": "text/x-python",
   "name": "python",
   "nbconvert_exporter": "python",
   "pygments_lexer": "ipython3",
   "version": "3.8.5"
  }
 },
 "nbformat": 4,
 "nbformat_minor": 4
}
