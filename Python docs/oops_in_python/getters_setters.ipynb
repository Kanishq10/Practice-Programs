{
 "cells": [
  {
   "cell_type": "code",
   "execution_count": 1,
   "metadata": {},
   "outputs": [
    {
     "name": "stdout",
     "output_type": "stream",
     "text": [
      "setter method called\n",
      "getter method called\n",
      "10\n"
     ]
    }
   ],
   "source": [
    "# Python program showing a \n",
    "# use of property() function \n",
    "\n",
    "class Geeks: \n",
    "\tdef __init__(self): \n",
    "\t\tself._age = 0\n",
    "\t\n",
    "\t# function to get value of _age \n",
    "\tdef get_age(self): \n",
    "\t\tprint(\"getter method called\") \n",
    "\t\treturn self._age \n",
    "\t\n",
    "\t# function to set value of _age \n",
    "\tdef set_age(self, a): \n",
    "\t\tprint(\"setter method called\") \n",
    "\t\tself._age = a \n",
    "\n",
    "\t# function to delete _age attribute \n",
    "\tdef del_age(self): \n",
    "\t\tdel self._age \n",
    "\t\n",
    "\tage = property(get_age, set_age, del_age) \n",
    "\n",
    "mark = Geeks() \n",
    "\n",
    "mark.age = 10\n",
    "\n",
    "print(mark.age) \n"
   ]
  },
  {
   "cell_type": "code",
   "execution_count": 2,
   "metadata": {},
   "outputs": [
    {
     "name": "stdout",
     "output_type": "stream",
     "text": [
      "setter method called\n",
      "getter method called\n",
      "19\n"
     ]
    }
   ],
   "source": [
    "# Python program showing the use of \n",
    "# @property \n",
    "\n",
    "class Geeks: \n",
    "\tdef __init__(self): \n",
    "\t\tself._age = 0\n",
    "\t\n",
    "\t# using property decorator \n",
    "\t# a getter function \n",
    "\t@property\n",
    "\tdef age(self): \n",
    "\t\tprint(\"getter method called\") \n",
    "\t\treturn self._age \n",
    "\t\n",
    "\t# a setter function \n",
    "\t@age.setter \n",
    "\tdef age(self, a): \n",
    "\t\tif(a < 18): \n",
    "\t\t\traise ValueError(\"Sorry you age is below eligibility criteria\") \n",
    "\t\tprint(\"setter method called\") \n",
    "\t\tself._age = a \n",
    "\n",
    "mark = Geeks() \n",
    "\n",
    "mark.age = 19\n",
    "\n",
    "print(mark.age) \n"
   ]
  }
 ],
 "metadata": {
  "kernelspec": {
   "display_name": "Python 3",
   "language": "python",
   "name": "python3"
  },
  "language_info": {
   "codemirror_mode": {
    "name": "ipython",
    "version": 3
   },
   "file_extension": ".py",
   "mimetype": "text/x-python",
   "name": "python",
   "nbconvert_exporter": "python",
   "pygments_lexer": "ipython3",
   "version": "3.11.9"
  }
 },
 "nbformat": 4,
 "nbformat_minor": 2
}
