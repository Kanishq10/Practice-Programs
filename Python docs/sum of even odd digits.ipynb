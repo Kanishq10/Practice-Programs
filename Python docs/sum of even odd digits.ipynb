{
 "cells": [
  {
   "cell_type": "code",
   "execution_count": 1,
   "metadata": {},
   "outputs": [
    {
     "output_type": "stream",
     "name": "stdout",
     "text": [
      "4 3\n"
     ]
    }
   ],
   "source": [
    "n=int(input())\n",
    "eve=0\n",
    "odd=0\n",
    "while n!=0:\n",
    "    if n%2==0:\n",
    "        eve+=n%10\n",
    "    else:\n",
    "        odd+=n%10\n",
    "    n=n//10\n",
    "print(eve,end=\" \")\n",
    "print(odd)\n"
   ]
  },
  {
   "cell_type": "code",
   "execution_count": null,
   "metadata": {},
   "outputs": [],
   "source": []
  }
 ],
 "metadata": {
  "kernelspec": {
   "name": "python395jvsc74a57bd02f6614f4b5a571e7720da7cf8f55b32faaa4e8df5fe2e0ac3c96e99be1f93085",
   "display_name": "Python 3.9.5 64-bit (windows store)"
  },
  "language_info": {
   "codemirror_mode": {
    "name": "ipython",
    "version": 3
   },
   "file_extension": ".py",
   "mimetype": "text/x-python",
   "name": "python",
   "nbconvert_exporter": "python",
   "pygments_lexer": "ipython3",
   "version": "3.9.5"
  },
  "metadata": {
   "interpreter": {
    "hash": "2f6614f4b5a571e7720da7cf8f55b32faaa4e8df5fe2e0ac3c96e99be1f93085"
   }
  }
 },
 "nbformat": 4,
 "nbformat_minor": 4
}