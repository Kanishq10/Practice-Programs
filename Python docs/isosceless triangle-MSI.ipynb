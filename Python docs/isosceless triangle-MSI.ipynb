{
 "cells": [
  {
   "cell_type": "code",
   "execution_count": 1,
   "source": [
    "n=int(input(\"Insert\"))\r\n",
    "i=1\r\n",
    "while i<=n:\r\n",
    "    j=1\r\n",
    "    k=1\r\n",
    "    l=1\r\n",
    "    m=i\r\n",
    "    while j<=n-i:\r\n",
    "        print(\" \",end=\" \")\r\n",
    "        j+=1\r\n",
    "    while k<=i:\r\n",
    "        print(k,end=\" \")\r\n",
    "        k=k+1\r\n",
    "    while l<=i-1:\r\n",
    "        print(m-1,end=\" \")\r\n",
    "        m=m-1\r\n",
    "        l+=1\r\n",
    "    print()\r\n",
    "    i+=1"
   ],
   "outputs": [
    {
     "output_type": "stream",
     "name": "stdout",
     "text": [
      "        1 \n",
      "      1 2 1 \n",
      "    1 2 3 2 1 \n",
      "  1 2 3 4 3 2 1 \n",
      "1 2 3 4 5 4 3 2 1 \n"
     ]
    }
   ],
   "metadata": {}
  },
  {
   "cell_type": "code",
   "execution_count": 1,
   "source": [
    "n=int(input())\r\n",
    "i=1\r\n",
    "while i<=n:\r\n",
    "    j=1\r\n",
    "    k=1\r\n",
    "    l=1\r\n",
    "    while j<=n-i:\r\n",
    "        print(\" \",end=\" \")\r\n",
    "        j+=1\r\n",
    "    while k<=i:\r\n",
    "        print(\"*\",end=\" \")\r\n",
    "        k=k+1\r\n",
    "    while l<=i-1:\r\n",
    "        print(\"*\",end=\" \")\r\n",
    "        l+=1\r\n",
    "    print()\r\n",
    "    i+=1"
   ],
   "outputs": [
    {
     "output_type": "stream",
     "name": "stdout",
     "text": [
      "  * \n",
      "* * * \n"
     ]
    }
   ],
   "metadata": {}
  },
  {
   "cell_type": "code",
   "execution_count": null,
   "source": [
    "i=1\r\n",
    "while i<=n:\r\n",
    "    space=1\r\n",
    "    while space<=n-i:\r\n",
    "        print(\" \",end=\" \")\r\n",
    "        space+=1\r\n",
    "    j=1\r\n",
    "    p=1\r\n",
    "    while j<=i:\r\n",
    "        print(j,end=\" \")\r\n",
    "        j+=1\r\n",
    "        p=p+1\r\n",
    "    p=i-1\r\n",
    "    while p>=1:\r\n",
    "        print(p,end=\" \")\r\n",
    "    print()\r\n",
    "    i+=1"
   ],
   "outputs": [],
   "metadata": {}
  },
  {
   "cell_type": "code",
   "execution_count": 1,
   "source": [
    "n = int(input())   \r\n",
    "currRow = 1\r\n",
    "while currRow <= n:  # 2<=4\r\n",
    "    spaces = 1\r\n",
    "    while spaces <= (n - currRow):\r\n",
    "        print(\" \", end = \"\")\r\n",
    "        spaces += 1\r\n",
    "    currCol = 1\r\n",
    "    while currCol <=  2 * currRow  -1:\r\n",
    "        print(\"*\", end = \"\")\r\n",
    "        currCol += 1\r\n",
    "    print()\r\n",
    "    currRow += 1"
   ],
   "outputs": [
    {
     "output_type": "stream",
     "name": "stdout",
     "text": [
      "5\n",
      "    *\n",
      "   ***\n",
      "  *****\n",
      " *******\n",
      "*********\n"
     ]
    }
   ],
   "metadata": {}
  },
  {
   "cell_type": "markdown",
   "source": [
    "lines=int(input()) \n",
    "i=1  \n",
    "j=1  \n",
    "while i<=lines:  \n",
    "    j=1  \n",
    "    while j<=lines:      \n",
    "        if i==j:  \n",
    "            print(\"*\", end='')  \n",
    "        else :  \n",
    "            print(\"0\", end='')  \n",
    "        j=j+1  \n",
    "    print(\"*\", end='')  \n",
    "    j=j-1\n",
    "    while j>=1:    \n",
    "        if i==j:  \n",
    "            print(\"*\", end='')  \n",
    "        else :  \n",
    "            print(\"0\", end='')  \n",
    "        j=j-1  \n",
    "    print(\"\");  \n",
    "    i=i+1"
   ],
   "metadata": {}
  },
  {
   "cell_type": "code",
   "execution_count": 13,
   "source": [
    "lines=int(input()) \n",
    "i=1  \n",
    "j=1  \n",
    "while i<=lines:  \n",
    "    j=1  \n",
    "    while j<=lines:      \n",
    "        if i==j:  \n",
    "            print(\"*\", end='')  \n",
    "        else :  \n",
    "            print(\"0\", end='')  \n",
    "        j=j+1  \n",
    "    j=j-1\n",
    "    print(\"*\", end='')  \n",
    "    while j>=1:    \n",
    "        if i==j:  \n",
    "            print(\"*\", end='')  \n",
    "        else :  \n",
    "            print(\"0\", end='')  \n",
    "        j=j-1  \n",
    "    print(\"\");  \n",
    "    i=i+1"
   ],
   "outputs": [
    {
     "output_type": "stream",
     "name": "stdout",
     "text": [
      "4\n",
      "*000*000*\n",
      "0*00*00*0\n",
      "00*0*0*00\n",
      "000***000\n"
     ]
    }
   ],
   "metadata": {}
  },
  {
   "cell_type": "code",
   "execution_count": 9,
   "source": [
    "def Diamond(rows): \n",
    "    n = 0\n",
    "    for i in range(1, rows + 1): \n",
    "        # loop to print spaces \n",
    "        for j in range (1, (rows - i) + 1): \n",
    "            print(end = \" \") \n",
    "          \n",
    "        # loop to print star \n",
    "        while n != (2 * i - 1): \n",
    "            print(\"*\", end = \"\") \n",
    "            n = n + 1\n",
    "        n = 0\n",
    "          \n",
    "        # line break \n",
    "        print()  \n",
    "  \n",
    "    k = 1\n",
    "    n = 1\n",
    "    for i in range(1, rows): \n",
    "        # loop to print spaces \n",
    "        for j in range (1, k + 1): \n",
    "            print(end = \" \") \n",
    "        k = k + 1\n",
    "          \n",
    "        # loop to print star \n",
    "        while n <= (2 * (rows - i) - 1): \n",
    "            print(\"*\", end = \"\") \n",
    "            n = n + 1\n",
    "        n = 1\n",
    "        print() \n",
    "  \n",
    "# Driver Code \n",
    "# number of rows input \n",
    "rows = 5\n",
    "Diamond(rows) "
   ],
   "outputs": [
    {
     "output_type": "stream",
     "name": "stdout",
     "text": [
      "    *\n",
      "   ***\n",
      "  *****\n",
      " *******\n",
      "*********\n",
      " *******\n",
      "  *****\n",
      "   ***\n",
      "    *\n"
     ]
    }
   ],
   "metadata": {}
  },
  {
   "cell_type": "code",
   "execution_count": 11,
   "source": [
    "_none\n",
    "edit\n",
    "play_arrow\n",
    "\n",
    "brightness_4\n",
    "# Python program to print the \n",
    "# arrow pattern \n",
    "  \n",
    "import math \n",
    "  \n",
    "# Function to print pattern \n",
    "def print_arrow(n): \n",
    "  \n",
    "    # for printing upper part \n",
    "    # of the arrow \n",
    "    for i in range(1,n): \n",
    "   \n",
    "        # To give space before printing \n",
    "        # stars in upper part of arrow \n",
    "        for j in range(0,i): \n",
    "            print(\" \",end=\"\") \n",
    "          \n",
    "   \n",
    "        # To print stars in upper \n",
    "        # part of the arrow \n",
    "        for k in range(0,i): \n",
    "            print(\"*\",end=\"\") \n",
    "          \n",
    "        print() \n",
    "      \n",
    "   \n",
    "    # for printing lower part \n",
    "    # of the arrow \n",
    "    for i in range(0,n): \n",
    "   \n",
    "        # To give space before printing \n",
    "        # stars in lower part of arrow \n",
    "        for j in range (0,n-i): \n",
    "            print(\" \",end=\"\") \n",
    "          \n",
    "   \n",
    "        # To print stars in lower \n",
    "        # part of the arrow \n",
    "        for k in range (0,n-i): \n",
    "            print(\"*\",end=\"\") \n",
    "          \n",
    "        print() \n",
    "      \n",
    "#driver code \n",
    "  \n",
    "n = 5\n",
    "   \n",
    "# function calling \n",
    "print_arrow(n) "
   ],
   "outputs": [
    {
     "output_type": "error",
     "ename": "NameError",
     "evalue": "name '_none' is not defined",
     "traceback": [
      "\u001b[1;31m---------------------------------------------------------------------------\u001b[0m",
      "\u001b[1;31mNameError\u001b[0m                                 Traceback (most recent call last)",
      "\u001b[1;32m<ipython-input-11-8ffc2586688c>\u001b[0m in \u001b[0;36m<module>\u001b[1;34m\u001b[0m\n\u001b[1;32m----> 1\u001b[1;33m \u001b[0m_none\u001b[0m\u001b[1;33m\u001b[0m\u001b[1;33m\u001b[0m\u001b[0m\n\u001b[0m\u001b[0;32m      2\u001b[0m \u001b[0medit\u001b[0m\u001b[1;33m\u001b[0m\u001b[1;33m\u001b[0m\u001b[0m\n\u001b[0;32m      3\u001b[0m \u001b[0mplay_arrow\u001b[0m\u001b[1;33m\u001b[0m\u001b[1;33m\u001b[0m\u001b[0m\n\u001b[0;32m      4\u001b[0m \u001b[1;33m\u001b[0m\u001b[0m\n\u001b[0;32m      5\u001b[0m \u001b[0mbrightness_4\u001b[0m\u001b[1;33m\u001b[0m\u001b[1;33m\u001b[0m\u001b[0m\n",
      "\u001b[1;31mNameError\u001b[0m: name '_none' is not defined"
     ]
    }
   ],
   "metadata": {}
  },
  {
   "cell_type": "code",
   "execution_count": 12,
   "source": [
    "i = 1\n",
    "while i <= decreasing:\n",
    "\t# printing spaces 1st row has 2 spaces, 2nd row has 1 so ith will have decreasing - i spaces\n",
    "\ts = 1\n",
    "\twhile s <= decreasing - i:\n",
    "\t\tprint(\" \", end=\"\")\n",
    "\t\ts = s + 1\n",
    "\t\n",
    "\t# printing stars 1st row has 3 star, 2nd row has 2 so ith will have decreasing - i + 1 stars\n",
    "\tj = 1\n",
    "\twhile j <= decreasing - i + 1:\n",
    "\t\tprint(\"* \", end=\"\")\n",
    "\t\tj = j + 1\n",
    "\tprint()\n",
    "\ti = i + 1"
   ],
   "outputs": [
    {
     "output_type": "error",
     "ename": "NameError",
     "evalue": "name 'decreasing' is not defined",
     "traceback": [
      "\u001b[1;31m---------------------------------------------------------------------------\u001b[0m",
      "\u001b[1;31mNameError\u001b[0m                                 Traceback (most recent call last)",
      "\u001b[1;32m<ipython-input-12-792d0ef4ac82>\u001b[0m in \u001b[0;36m<module>\u001b[1;34m\u001b[0m\n\u001b[0;32m      1\u001b[0m \u001b[0mi\u001b[0m \u001b[1;33m=\u001b[0m \u001b[1;36m1\u001b[0m\u001b[1;33m\u001b[0m\u001b[1;33m\u001b[0m\u001b[0m\n\u001b[1;32m----> 2\u001b[1;33m \u001b[1;32mwhile\u001b[0m \u001b[0mi\u001b[0m \u001b[1;33m<=\u001b[0m \u001b[0mdecreasing\u001b[0m\u001b[1;33m:\u001b[0m\u001b[1;33m\u001b[0m\u001b[1;33m\u001b[0m\u001b[0m\n\u001b[0m\u001b[0;32m      3\u001b[0m         \u001b[1;31m# printing spaces 1st row has 2 spaces, 2nd row has 1 so ith will have decreasing - i spaces\u001b[0m\u001b[1;33m\u001b[0m\u001b[1;33m\u001b[0m\u001b[1;33m\u001b[0m\u001b[0m\n\u001b[0;32m      4\u001b[0m         \u001b[0ms\u001b[0m \u001b[1;33m=\u001b[0m \u001b[1;36m1\u001b[0m\u001b[1;33m\u001b[0m\u001b[1;33m\u001b[0m\u001b[0m\n\u001b[0;32m      5\u001b[0m         \u001b[1;32mwhile\u001b[0m \u001b[0ms\u001b[0m \u001b[1;33m<=\u001b[0m \u001b[0mdecreasing\u001b[0m \u001b[1;33m-\u001b[0m \u001b[0mi\u001b[0m\u001b[1;33m:\u001b[0m\u001b[1;33m\u001b[0m\u001b[1;33m\u001b[0m\u001b[0m\n",
      "\u001b[1;31mNameError\u001b[0m: name 'decreasing' is not defined"
     ]
    }
   ],
   "metadata": {}
  },
  {
   "cell_type": "code",
   "execution_count": null,
   "source": [],
   "outputs": [],
   "metadata": {}
  }
 ],
 "metadata": {
  "kernelspec": {
   "name": "python3",
   "display_name": "Python 3.9.6 64-bit (windows store)"
  },
  "language_info": {
   "codemirror_mode": {
    "name": "ipython",
    "version": 3
   },
   "file_extension": ".py",
   "mimetype": "text/x-python",
   "name": "python",
   "nbconvert_exporter": "python",
   "pygments_lexer": "ipython3",
   "version": "3.9.6"
  },
  "interpreter": {
   "hash": "2f6614f4b5a571e7720da7cf8f55b32faaa4e8df5fe2e0ac3c96e99be1f93085"
  }
 },
 "nbformat": 4,
 "nbformat_minor": 4
}