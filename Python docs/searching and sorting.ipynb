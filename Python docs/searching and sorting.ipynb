{
 "cells": [
  {
   "cell_type": "markdown",
   "metadata": {},
   "source": [
    "This will also shows input methods using split"
   ]
  },
  {
   "cell_type": "code",
   "execution_count": null,
   "metadata": {},
   "outputs": [],
   "source": [
    "# Binary search\n",
    "arr=list(int(x) for x in input(\"Enter sorted array\").split(\" \"))\n",
    "start,end = 0,len(arr)-1\n",
    "m=int(input(\"Enter no. to be searched\"))\n",
    "while(start<=end):\n",
    "    mid=(start+end)//2\n",
    "    if arr[mid]==m:\n",
    "        print(m,\" is at index \",mid)\n",
    "        break\n",
    "    elif (arr[mid]<m):\n",
    "        start=mid+1\n",
    "    else:\n",
    "        end=mid-1\n",
    "else:\n",
    "    print(\"-1\")"
   ]
  },
  {
   "cell_type": "code",
   "execution_count": null,
   "metadata": {},
   "outputs": [],
   "source": [
    "# Selection sort\n",
    "arr=[int(x) for x in input(\"enter array\").split()]\n",
    "n=len(arr)\n",
    "for i in range(n-1):\n",
    "    for j in range(i,n):\n",
    "        if arr[j]<arr[i]:\n",
    "            arr[j],arr[i]=arr[i],arr[j]\n",
    "    print(arr)\n",
    "print(\"the sorted array is\",arr)\n"
   ]
  },
  {
   "cell_type": "code",
   "execution_count": null,
   "metadata": {},
   "outputs": [],
   "source": [
    "# Bubble sort\n",
    "arr=[int(x) for x in input(\"Enter array\").split(\",\") ]\n",
    "n=len(arr)\n",
    "for i in range(n-1):\n",
    "    for j in range(n-1-i):\n",
    "        if arr[j]>arr[j+1]:\n",
    "            arr[j],arr[j+1]=arr[j+1],arr[j]\n",
    "    print(arr)\n",
    "print(\"Bubble sorted array is \",arr)"
   ]
  },
  {
   "cell_type": "code",
   "execution_count": null,
   "metadata": {},
   "outputs": [],
   "source": [
    "# insertion sort\n",
    "arr=input(\"Enter array \").split()\n",
    "n=len(arr)\n",
    "for i in range(1,n):\n",
    "    j=i-1\n",
    "    temp=arr[i]\n",
    "    while(j>=0 and arr[j]>temp):\n",
    "        arr[j+1]=arr[j]\n",
    "        j=j-1\n",
    "    arr[j+1]=temp\n",
    "    print(arr)\n",
    "print(\"Inserted sort array is:\",arr,type(arr[0]))"
   ]
  }
 ],
 "metadata": {
  "interpreter": {
   "hash": "8912ab018fced6150e62a2344c11dfeb4a15a30f1a2d5d8778c7277a4926139d"
  },
  "kernelspec": {
   "display_name": "Python 3.10.0 64-bit (windows store)",
   "name": "python3"
  },
  "language_info": {
   "codemirror_mode": {
    "name": "ipython",
    "version": 3
   },
   "file_extension": ".py",
   "mimetype": "text/x-python",
   "name": "python",
   "nbconvert_exporter": "python",
   "pygments_lexer": "ipython3",
   "version": "3.10.0"
  },
  "metadata": {
   "interpreter": {
    "hash": "2de5b0401941726502cafc271048671f51d3ac50ba8483b57dde78a010504e74"
   }
  },
  "orig_nbformat": 2
 },
 "nbformat": 4,
 "nbformat_minor": 2
}
