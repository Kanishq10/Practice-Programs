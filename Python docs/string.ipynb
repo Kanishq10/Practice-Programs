{
 "metadata": {
  "language_info": {
   "codemirror_mode": {
    "name": "ipython",
    "version": 3
   },
   "file_extension": ".py",
   "mimetype": "text/x-python",
   "name": "python",
   "nbconvert_exporter": "python",
   "pygments_lexer": "ipython3",
   "version": "3.9.2-final"
  },
  "orig_nbformat": 2,
  "kernelspec": {
   "name": "python3",
   "display_name": "Python 3.9.2 64-bit",
   "metadata": {
    "interpreter": {
     "hash": "2de5b0401941726502cafc271048671f51d3ac50ba8483b57dde78a010504e74"
    }
   }
  }
 },
 "nbformat": 4,
 "nbformat_minor": 2,
 "cells": [
  {
   "cell_type": "code",
   "execution_count": 4,
   "metadata": {},
   "outputs": [
    {
     "output_type": "stream",
     "name": "stdout",
     "text": [
      "<generator object <genexpr> at 0x00000132FB505F20>\n"
     ]
    }
   ],
   "source": [
    "s=\"helllolll\"\n",
    "print(ele for ele in s if ele=='l')"
   ]
  },
  {
   "cell_type": "code",
   "execution_count": 1,
   "metadata": {},
   "outputs": [
    {
     "output_type": "execute_result",
     "data": {
      "text/plain": [
       "['d', 'e', 'g', 'h', 'i', 'n', 'r', 's', 't', 'w']"
      ]
     },
     "metadata": {},
     "execution_count": 1
    }
   ],
   "source": [
    "x=\"ghtdeinswr\"\n",
    "y=sorted(x)\n",
    "x=\"\".join(y)\n",
    "y\n"
   ]
  },
  {
   "source": [
    "x"
   ],
   "cell_type": "code",
   "metadata": {},
   "execution_count": 2,
   "outputs": [
    {
     "output_type": "execute_result",
     "data": {
      "text/plain": [
       "'deghinrstw'"
      ]
     },
     "metadata": {},
     "execution_count": 2
    }
   ]
  }
 ]
}